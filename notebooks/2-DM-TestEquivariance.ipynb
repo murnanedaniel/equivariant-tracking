{
 "cells": [
  {
   "cell_type": "markdown",
   "metadata": {},
   "source": [
    "# Test Lightning Refactor"
   ]
  },
  {
   "cell_type": "code",
   "execution_count": 94,
   "metadata": {},
   "outputs": [
    {
     "name": "stdout",
     "output_type": "stream",
     "text": [
      "The autoreload extension is already loaded. To reload it, use:\n",
      "  %reload_ext autoreload\n"
     ]
    }
   ],
   "source": [
    "# Autoreload\n",
    "%load_ext autoreload\n",
    "%autoreload 2\n",
    "\n",
    "# Imports\n",
    "import os\n",
    "import sys\n",
    "import numpy as np\n",
    "import matplotlib.pyplot as plt\n",
    "import torch\n",
    "from torch import optim\n",
    "from torch.optim.lr_scheduler import StepLR\n",
    "import torch.nn.functional as F\n",
    "from torch_geometric.loader import DataLoader\n",
    "import yaml\n",
    "from pytorch_lightning.callbacks import ModelCheckpoint\n",
    "from pytorch_lightning.loggers import WandbLogger\n",
    "from pytorch_lightning import Trainer\n",
    "import warnings\n",
    "warnings.filterwarnings('ignore')\n",
    "from tqdm import tqdm\n",
    "\n",
    "# Add src to path\n",
    "sys.path.append('../src')\n",
    "sys.path.append('../scripts')\n",
    "\n",
    "# Imports\n",
    "from models.submodels.euclidnet import EuclidNet_SO3, EuclidNet_SO2\n",
    "from models.submodels.interaction_gnn import InteractionGNN\n",
    "\n",
    "device = torch.device('cuda' if torch.cuda.is_available() else 'cpu')"
   ]
  },
  {
   "cell_type": "code",
   "execution_count": 2,
   "metadata": {},
   "outputs": [],
   "source": [
    "# Load config file\n",
    "with open('debug_config.yaml', 'r') as f:\n",
    "    config = yaml.load(f, Loader=yaml.FullLoader)"
   ]
  },
  {
   "cell_type": "code",
   "execution_count": 51,
   "metadata": {},
   "outputs": [],
   "source": [
    "def Ry(theta):\n",
    "    if isinstance(theta, float) or isinstance(theta, int) or isinstance(theta, np.float32):\n",
    "        theta = torch.tensor(theta)\n",
    "    return torch.tensor([\n",
    "        [torch.cos(theta), 0., torch.sin(theta)],\n",
    "        [0., 1., 0.],\n",
    "        [-torch.sin(theta), 0., torch.cos(theta)]\n",
    "    ])\n",
    "\n",
    "def Rz(theta):\n",
    "    if isinstance(theta, float) or isinstance(theta, int) or isinstance(theta, np.float32):\n",
    "        theta = torch.tensor(theta)\n",
    "    return torch.tensor([\n",
    "        [torch.cos(theta), torch.sin(theta), 0.],\n",
    "        [-torch.sin(theta), torch.cos(theta), 0.],\n",
    "        [0., 0., 1.]\n",
    "    ])"
   ]
  },
  {
   "cell_type": "markdown",
   "metadata": {},
   "source": [
    "## Roadmap"
   ]
  },
  {
   "cell_type": "markdown",
   "metadata": {},
   "source": [
    "1. Load in some data\n",
    "2. Run data through model\n",
    "3. Transform data\n",
    "4. Run transformed data through model\n",
    "5. Compare outputs"
   ]
  },
  {
   "cell_type": "markdown",
   "metadata": {},
   "source": [
    "## SO(3) Equivariance tests"
   ]
  },
  {
   "cell_type": "code",
   "execution_count": 101,
   "metadata": {},
   "outputs": [],
   "source": [
    "model = EuclidNet_SO3(config)"
   ]
  },
  {
   "cell_type": "code",
   "execution_count": 102,
   "metadata": {},
   "outputs": [
    {
     "name": "stdout",
     "output_type": "stream",
     "text": [
      "Setting up dataset\n"
     ]
    }
   ],
   "source": [
    "model.setup(stage=\"fit\")"
   ]
  },
  {
   "cell_type": "code",
   "execution_count": 103,
   "metadata": {},
   "outputs": [],
   "source": [
    "sample = model.trainset[0]"
   ]
  },
  {
   "cell_type": "code",
   "execution_count": 104,
   "metadata": {},
   "outputs": [
    {
     "data": {
      "text/plain": [
       "Data(x=[3366, 3], edge_index=[2, 46426], edge_attr=[46426, 4], y=[46426], pid=[3366], pt=[3366], eta=[3366], num_nodes=3366)"
      ]
     },
     "execution_count": 104,
     "metadata": {},
     "output_type": "execute_result"
    }
   ],
   "source": [
    "sample"
   ]
  },
  {
   "cell_type": "code",
   "execution_count": 105,
   "metadata": {},
   "outputs": [
    {
     "name": "stderr",
     "output_type": "stream",
     "text": [
      "100%|██████████| 100/100 [00:34<00:00,  2.92it/s]\n"
     ]
    }
   ],
   "source": [
    "with torch.no_grad():\n",
    "    Ry_errors = []\n",
    "    Rz_errors = []\n",
    "    out = model(sample.x, sample.edge_index)\n",
    "\n",
    "    param_space = np.linspace(-np.pi, np.pi, 100, dtype=np.float32)\n",
    "    for theta in tqdm(param_space):\n",
    "        transformed_sample = (Ry(theta) @ sample.x.T).T\n",
    "        out2 = model(transformed_sample, sample.edge_index)\n",
    "        Ry_errors.append((out - out2).abs().sum() / sample.edge_index.shape[1])\n",
    "\n",
    "        transformed_sample = (Rz(theta) @ sample.x.T).T\n",
    "        out2 = model(transformed_sample, sample.edge_index)\n",
    "        Rz_errors.append((out - out2).abs().sum() / sample.edge_index.shape[1])"
   ]
  },
  {
   "cell_type": "code",
   "execution_count": 106,
   "metadata": {},
   "outputs": [
    {
     "data": {
      "image/png": "[encoded data removed]",
      "text/plain": [
       "<Figure size 432x288 with 1 Axes>"
      ]
     },
     "metadata": {
      "needs_background": "light"
     },
     "output_type": "display_data"
    }
   ],
   "source": [
    "# Plot in log space\n",
    "plt.plot(param_space, np.log(Ry_errors), label=\"Ry\")\n",
    "plt.plot(param_space, np.log(Rz_errors), label=\"Rz\")\n",
    "plt.legend()\n",
    "plt.show()"
   ]
  },
  {
   "cell_type": "markdown",
   "metadata": {},
   "source": [
    "## SO(2) Equivariance tests"
   ]
  },
  {
   "cell_type": "code",
   "execution_count": 87,
   "metadata": {},
   "outputs": [],
   "source": [
    "model = EuclidNet_SO2(config)"
   ]
  },
  {
   "cell_type": "code",
   "execution_count": 88,
   "metadata": {},
   "outputs": [
    {
     "name": "stdout",
     "output_type": "stream",
     "text": [
      "Setting up dataset\n"
     ]
    }
   ],
   "source": [
    "model.setup(stage=\"fit\")"
   ]
  },
  {
   "cell_type": "code",
   "execution_count": 89,
   "metadata": {},
   "outputs": [],
   "source": [
    "sample = model.trainset[0]"
   ]
  },
  {
   "cell_type": "code",
   "execution_count": 90,
   "metadata": {},
   "outputs": [
    {
     "data": {
      "text/plain": [
       "Data(x=[3357, 3], edge_index=[2, 49074], edge_attr=[49074, 4], y=[49074], pid=[3357], pt=[3357], eta=[3357], num_nodes=3357)"
      ]
     },
     "execution_count": 90,
     "metadata": {},
     "output_type": "execute_result"
    }
   ],
   "source": [
    "sample"
   ]
  },
  {
   "cell_type": "code",
   "execution_count": 91,
   "metadata": {},
   "outputs": [
    {
     "name": "stderr",
     "output_type": "stream",
     "text": [
      "100%|██████████| 100/100 [00:42<00:00,  2.34it/s]\n"
     ]
    }
   ],
   "source": [
    "with torch.no_grad():\n",
    "    Ry_errors = []\n",
    "    Rz_errors = []\n",
    "    out = model(sample.x, sample.edge_index)\n",
    "\n",
    "    param_space = np.linspace(-np.pi, np.pi, 100, dtype=np.float32)\n",
    "    for theta in tqdm(param_space):\n",
    "        transformed_sample = (Ry(theta) @ sample.x.T).T\n",
    "        out2 = model(transformed_sample, sample.edge_index)\n",
    "        Ry_errors.append((out - out2).abs().sum() / sample.edge_index.shape[1])\n",
    "\n",
    "        transformed_sample = (Rz(theta) @ sample.x.T).T\n",
    "        out2 = model(transformed_sample, sample.edge_index)\n",
    "        Rz_errors.append((out - out2).abs().sum() / sample.edge_index.shape[1])"
   ]
  },
  {
   "cell_type": "code",
   "execution_count": 93,
   "metadata": {},
   "outputs": [
    {
     "data": {
      "image/png": "[encoded data removed]",
      "text/plain": [
       "<Figure size 432x288 with 1 Axes>"
      ]
     },
     "metadata": {
      "needs_background": "light"
     },
     "output_type": "display_data"
    }
   ],
   "source": [
    "# Plot in log space\n",
    "plt.plot(param_space, np.log(Ry_errors), label=\"Ry\")\n",
    "plt.plot(param_space, np.log(Rz_errors), label=\"Rz\")\n",
    "plt.legend()\n",
    "plt.show()"
   ]
  },
  {
   "cell_type": "markdown",
   "metadata": {},
   "source": [
    "## SO(3) Equivariance tests"
   ]
  },
  {
   "cell_type": "code",
   "execution_count": 95,
   "metadata": {},
   "outputs": [],
   "source": [
    "model = InteractionGNN(config)"
   ]
  },
  {
   "cell_type": "code",
   "execution_count": 96,
   "metadata": {},
   "outputs": [
    {
     "name": "stdout",
     "output_type": "stream",
     "text": [
      "Setting up dataset\n"
     ]
    }
   ],
   "source": [
    "model.setup(stage=\"fit\")"
   ]
  },
  {
   "cell_type": "code",
   "execution_count": 97,
   "metadata": {},
   "outputs": [],
   "source": [
    "sample = model.trainset[0]"
   ]
  },
  {
   "cell_type": "code",
   "execution_count": 98,
   "metadata": {},
   "outputs": [
    {
     "data": {
      "text/plain": [
       "Data(x=[2370, 3], edge_index=[2, 26090], edge_attr=[26090, 4], y=[26090], pid=[2370], pt=[2370], eta=[2370], num_nodes=2370)"
      ]
     },
     "execution_count": 98,
     "metadata": {},
     "output_type": "execute_result"
    }
   ],
   "source": [
    "sample"
   ]
  },
  {
   "cell_type": "code",
   "execution_count": 99,
   "metadata": {},
   "outputs": [
    {
     "name": "stderr",
     "output_type": "stream",
     "text": [
      "100%|██████████| 100/100 [00:18<00:00,  5.39it/s]\n"
     ]
    }
   ],
   "source": [
    "with torch.no_grad():\n",
    "    Ry_errors = []\n",
    "    Rz_errors = []\n",
    "    out = model(sample.x, sample.edge_index)\n",
    "\n",
    "    param_space = np.linspace(-np.pi, np.pi, 100, dtype=np.float32)\n",
    "    for theta in tqdm(param_space):\n",
    "        transformed_sample = (Ry(theta) @ sample.x.T).T\n",
    "        out2 = model(transformed_sample, sample.edge_index)\n",
    "        Ry_errors.append((out - out2).abs().sum() / sample.edge_index.shape[1])\n",
    "\n",
    "        transformed_sample = (Rz(theta) @ sample.x.T).T\n",
    "        out2 = model(transformed_sample, sample.edge_index)\n",
    "        Rz_errors.append((out - out2).abs().sum() / sample.edge_index.shape[1])"
   ]
  },
  {
   "cell_type": "code",
   "execution_count": 100,
   "metadata": {},
   "outputs": [
    {
     "data": {
      "image/png": "[encoded data removed]",
      "text/plain": [
       "<Figure size 432x288 with 1 Axes>"
      ]
     },
     "metadata": {
      "needs_background": "light"
     },
     "output_type": "display_data"
    }
   ],
   "source": [
    "# Plot in log space\n",
    "plt.plot(param_space, np.log(Ry_errors), label=\"Ry\")\n",
    "plt.plot(param_space, np.log(Rz_errors), label=\"Rz\")\n",
    "plt.legend()\n",
    "plt.show()"
   ]
  },
  {
   "cell_type": "markdown",
   "metadata": {},
   "source": []
  }
 ],
 "metadata": {
  "kernelspec": {
   "display_name": "Python 3.8.12 ('exatrkx-cori': conda)",
   "language": "python",
   "name": "python3"
  },
  "language_info": {
   "codemirror_mode": {
    "name": "ipython",
    "version": 3
   },
   "file_extension": ".py",
   "mimetype": "text/x-python",
   "name": "python",
   "nbconvert_exporter": "python",
   "pygments_lexer": "ipython3",
   "version": "3.8.12"
  },
  "vscode": {
   "interpreter": {
    "hash": "70f08f231fd793b6e9065bb0a869f03e856cf92214029e7ffd4730124f198a39"
   }
  }
 },
 "nbformat": 4,
 "nbformat_minor": 4
}
